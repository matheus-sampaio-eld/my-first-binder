{
  "nbformat": 4,
  "nbformat_minor": 0,
  "metadata": {
    "colab": {
      "provenance": []
    },
    "kernelspec": {
      "name": "python3",
      "display_name": "Python 3"
    },
    "language_info": {
      "name": "python"
    }
  },
  "cells": [
    {
      "cell_type": "code",
      "execution_count": 19,
      "metadata": {
        "id": "2x3ZsPxMx7Px"
      },
      "outputs": [],
      "source": [
        "%%capture\n",
        "#remove \" > /dev/null 2>&1\" to see what is going on under the hood\n",
        "!apt-get update > /dev/null 2>&1\n",
        "!pip install gym pyvirtualdisplay > /dev/null 2>&1\n",
        "!apt-get install -y xvfb python-opengl ffmpeg > /dev/null 2>&1\n",
        "!apt-get install cmake > /dev/null 2>&1\n",
        "!pip install --upgrade setuptools 2>&1\n",
        "!pip install ez_setup > /dev/null 2>&1\n",
        "\n",
        "!apt-get update > /dev/null 2>&1\n",
        "!apt-get install cmake > /dev/null 2>&1\n",
        "!pip install --upgrade setuptools 2>&1\n",
        "!pip install ez_setup > /dev/null 2>&1\n",
        "\n",
        "!pip install swig==4.1.1\n",
        "!pip install Box2D==2.3.2\n",
        "!pip install box2d-kengz==2.3.3\n",
        "!pip install pygame==2.2.0\n",
        "!pip install ale_py==0.8.1\n",
        "!pip install pyglet==1.5.11\n",
        "\n",
        "\n",
        "!pip install -U colabgymrender\n",
        "!pip install imageio==2.4.1\n",
        "!pip install --upgrade AutoROM\n",
        "!AutoROM --accept-license\n",
        "!pip install gymnasium[atari]==0.28.1\n",
        "\n",
        "!wget http://www.atarimania.com/roms/Roms.rar \n",
        "!unrar x -o+ /content/Roms.rar >/dev/nul\n",
        "!python -m atari_py.import_roms /content/ROMS >/dev/nul\n",
        "\n",
        "!pip install pyvirtualdisplay > /dev/null 2>&1\n",
        "\n",
        "!pip install --upgrade gym"
      ]
    },
    {
      "cell_type": "code",
      "source": [
        "import gymnasium as gym\n",
        "from gymnasium import logger as gymlogger\n",
        "from gymnasium.wrappers.record_video import RecordVideo\n",
        "\n",
        "gymlogger.set_level(40) #error only\n",
        "import tensorflow as tf\n",
        "import numpy as np\n",
        "import random\n",
        "import matplotlib\n",
        "import matplotlib.pyplot as plt\n",
        "%matplotlib inline\n",
        "import math\n",
        "import uuid\n",
        "import glob\n",
        "import io\n",
        "import base64\n",
        "from IPython.display import HTML\n",
        "\n",
        "from IPython import display as ipythondisplay"
      ],
      "metadata": {
        "id": "OXed6NvVyQUv"
      },
      "execution_count": 63,
      "outputs": []
    },
    {
      "cell_type": "code",
      "source": [
        "from pyvirtualdisplay import Display\n",
        "display = Display(visible=0, size=(1400, 900))\n",
        "display.start()"
      ],
      "metadata": {
        "colab": {
          "base_uri": "https://localhost:8080/"
        },
        "id": "r37JoqYEyTYq",
        "outputId": "a39f9375-cf00-469a-cb5c-86c219bec1b2"
      },
      "execution_count": 47,
      "outputs": [
        {
          "output_type": "execute_result",
          "data": {
            "text/plain": [
              "<pyvirtualdisplay.display.Display at 0x7f0f56f9feb0>"
            ]
          },
          "metadata": {},
          "execution_count": 47
        }
      ]
    },
    {
      "cell_type": "code",
      "source": [
        "!mkdir -p video"
      ],
      "metadata": {
        "id": "dEaxLDaaQB3R"
      },
      "execution_count": 60,
      "outputs": []
    },
    {
      "cell_type": "code",
      "source": [
        "\"\"\"\n",
        "Utility functions to enable video recording of gym environment and displaying it\n",
        "To enable video, just do \"env = wrap_env(env)\"\"\n",
        "\"\"\"\n",
        "\n",
        "def show_video(folder_name):\n",
        "  mp4list = glob.glob(f'{folder_name}/*.mp4')\n",
        "  if len(mp4list) > 0:\n",
        "    mp4 = mp4list[0]\n",
        "    video = io.open(mp4, 'r+b').read()\n",
        "    encoded = base64.b64encode(video)\n",
        "    ipythondisplay.display(HTML(data='''<video alt=\"test\" autoplay \n",
        "                loop controls style=\"height: 400px;\">\n",
        "                <source src=\"data:video/mp4;base64,{0}\" type=\"video/mp4\" />\n",
        "             </video>'''.format(encoded.decode('ascii'))))\n",
        "  else: \n",
        "    print(\"Could not find video\")\n",
        "    \n",
        "\n",
        "def wrap_env(env, folder_name):\n",
        "  env = RecordVideo(env, folder_name, step_trigger = lambda episode_number: True)\n",
        "  return env"
      ],
      "metadata": {
        "id": "qZZkDbomyXT1"
      },
      "execution_count": 64,
      "outputs": []
    },
    {
      "cell_type": "code",
      "source": [
        "def create_environment(name):\n",
        "    folder_name = f\"./video/{name}/{uuid.uuid4()}\"\n",
        "    env = wrap_env(gym.make(name, render_mode=\"rgb_array\"), folder_name)\n",
        "    spec = gym.spec(name)\n",
        "    print(f\"Action Space: {env.action_space}\")\n",
        "    print(f\"Observation Space: {env.observation_space}\")\n",
        "    print(f\"Max Episode Steps: {spec.max_episode_steps}\")\n",
        "    print(f\"Nondeterministic: {spec.nondeterministic}\")\n",
        "    print(f\"Reward Range: {env.reward_range}\")\n",
        "    print(f\"Reward Threshold: {spec.reward_threshold}\")\n",
        "    return env, folder_name"
      ],
      "metadata": {
        "id": "E27SD_8tRO5V"
      },
      "execution_count": 65,
      "outputs": []
    },
    {
      "cell_type": "code",
      "source": [
        "env, folder_name = create_environment(\"CartPole-v1\")\n",
        "\n",
        "observation = env.reset()\n",
        "\n",
        "for _ in range(1000):\n",
        "    action = env.action_space.sample()  # agent policy that uses the observation and info\n",
        "    observation, reward, terminated, truncated, info = env.step(action)\n",
        "\n",
        "    if terminated or truncated:\n",
        "        observation, info = env.reset()\n",
        "\n",
        "env.close()\n",
        "show_video(folder_name)"
      ],
      "metadata": {
        "colab": {
          "base_uri": "https://localhost:8080/",
          "height": 1000
        },
        "id": "Z24Jz3huzh7o",
        "outputId": "aa942743-c13d-4097-e9ff-1e29b1d143ac"
      },
      "execution_count": 66,
      "outputs": [
        {
          "output_type": "stream",
          "name": "stdout",
          "text": [
            "Action Space: Discrete(2)\n",
            "Observation Space: Box([-4.8000002e+00 -3.4028235e+38 -4.1887903e-01 -3.4028235e+38], [4.8000002e+00 3.4028235e+38 4.1887903e-01 3.4028235e+38], (4,), float32)\n",
            "Max Episode Steps: 500\n",
            "Nondeterministic: False\n",
            "Reward Range: (-inf, inf)\n",
            "Reward Threshold: 475.0\n",
            "Moviepy - Building video /content/video/CartPole-v1/a3915733-e792-4f8c-9b94-670acb3cc1e5/rl-video-step-0.mp4.\n",
            "Moviepy - Writing video /content/video/CartPole-v1/a3915733-e792-4f8c-9b94-670acb3cc1e5/rl-video-step-0.mp4\n",
            "\n"
          ]
        },
        {
          "output_type": "stream",
          "name": "stderr",
          "text": []
        },
        {
          "output_type": "stream",
          "name": "stdout",
          "text": [
            "Moviepy - Done !\n",
            "Moviepy - video ready /content/video/CartPole-v1/a3915733-e792-4f8c-9b94-670acb3cc1e5/rl-video-step-0.mp4\n",
            "Moviepy - Building video /content/video/CartPole-v1/a3915733-e792-4f8c-9b94-670acb3cc1e5/rl-video-step-23.mp4.\n",
            "Moviepy - Writing video /content/video/CartPole-v1/a3915733-e792-4f8c-9b94-670acb3cc1e5/rl-video-step-23.mp4\n",
            "\n"
          ]
        },
        {
          "output_type": "stream",
          "name": "stderr",
          "text": []
        },
        {
          "output_type": "stream",
          "name": "stdout",
          "text": [
            "Moviepy - Done !\n",
            "Moviepy - video ready /content/video/CartPole-v1/a3915733-e792-4f8c-9b94-670acb3cc1e5/rl-video-step-23.mp4\n",
            "Moviepy - Building video /content/video/CartPole-v1/a3915733-e792-4f8c-9b94-670acb3cc1e5/rl-video-step-55.mp4.\n",
            "Moviepy - Writing video /content/video/CartPole-v1/a3915733-e792-4f8c-9b94-670acb3cc1e5/rl-video-step-55.mp4\n",
            "\n"
          ]
        },
        {
          "output_type": "stream",
          "name": "stderr",
          "text": []
        },
        {
          "output_type": "stream",
          "name": "stdout",
          "text": [
            "Moviepy - Done !\n",
            "Moviepy - video ready /content/video/CartPole-v1/a3915733-e792-4f8c-9b94-670acb3cc1e5/rl-video-step-55.mp4\n",
            "Moviepy - Building video /content/video/CartPole-v1/a3915733-e792-4f8c-9b94-670acb3cc1e5/rl-video-step-84.mp4.\n",
            "Moviepy - Writing video /content/video/CartPole-v1/a3915733-e792-4f8c-9b94-670acb3cc1e5/rl-video-step-84.mp4\n",
            "\n"
          ]
        },
        {
          "output_type": "stream",
          "name": "stderr",
          "text": []
        },
        {
          "output_type": "stream",
          "name": "stdout",
          "text": [
            "Moviepy - Done !\n",
            "Moviepy - video ready /content/video/CartPole-v1/a3915733-e792-4f8c-9b94-670acb3cc1e5/rl-video-step-84.mp4\n",
            "Moviepy - Building video /content/video/CartPole-v1/a3915733-e792-4f8c-9b94-670acb3cc1e5/rl-video-step-126.mp4.\n",
            "Moviepy - Writing video /content/video/CartPole-v1/a3915733-e792-4f8c-9b94-670acb3cc1e5/rl-video-step-126.mp4\n",
            "\n"
          ]
        },
        {
          "output_type": "stream",
          "name": "stderr",
          "text": []
        },
        {
          "output_type": "stream",
          "name": "stdout",
          "text": [
            "Moviepy - Done !\n",
            "Moviepy - video ready /content/video/CartPole-v1/a3915733-e792-4f8c-9b94-670acb3cc1e5/rl-video-step-126.mp4\n",
            "Moviepy - Building video /content/video/CartPole-v1/a3915733-e792-4f8c-9b94-670acb3cc1e5/rl-video-step-158.mp4.\n",
            "Moviepy - Writing video /content/video/CartPole-v1/a3915733-e792-4f8c-9b94-670acb3cc1e5/rl-video-step-158.mp4\n",
            "\n"
          ]
        },
        {
          "output_type": "stream",
          "name": "stderr",
          "text": []
        },
        {
          "output_type": "stream",
          "name": "stdout",
          "text": [
            "Moviepy - Done !\n",
            "Moviepy - video ready /content/video/CartPole-v1/a3915733-e792-4f8c-9b94-670acb3cc1e5/rl-video-step-158.mp4\n",
            "Moviepy - Building video /content/video/CartPole-v1/a3915733-e792-4f8c-9b94-670acb3cc1e5/rl-video-step-170.mp4.\n",
            "Moviepy - Writing video /content/video/CartPole-v1/a3915733-e792-4f8c-9b94-670acb3cc1e5/rl-video-step-170.mp4\n",
            "\n"
          ]
        },
        {
          "output_type": "stream",
          "name": "stderr",
          "text": []
        },
        {
          "output_type": "stream",
          "name": "stdout",
          "text": [
            "Moviepy - Done !\n",
            "Moviepy - video ready /content/video/CartPole-v1/a3915733-e792-4f8c-9b94-670acb3cc1e5/rl-video-step-170.mp4\n",
            "Moviepy - Building video /content/video/CartPole-v1/a3915733-e792-4f8c-9b94-670acb3cc1e5/rl-video-step-204.mp4.\n",
            "Moviepy - Writing video /content/video/CartPole-v1/a3915733-e792-4f8c-9b94-670acb3cc1e5/rl-video-step-204.mp4\n",
            "\n"
          ]
        },
        {
          "output_type": "stream",
          "name": "stderr",
          "text": []
        },
        {
          "output_type": "stream",
          "name": "stdout",
          "text": [
            "Moviepy - Done !\n",
            "Moviepy - video ready /content/video/CartPole-v1/a3915733-e792-4f8c-9b94-670acb3cc1e5/rl-video-step-204.mp4\n",
            "Moviepy - Building video /content/video/CartPole-v1/a3915733-e792-4f8c-9b94-670acb3cc1e5/rl-video-step-215.mp4.\n",
            "Moviepy - Writing video /content/video/CartPole-v1/a3915733-e792-4f8c-9b94-670acb3cc1e5/rl-video-step-215.mp4\n",
            "\n"
          ]
        },
        {
          "output_type": "stream",
          "name": "stderr",
          "text": []
        },
        {
          "output_type": "stream",
          "name": "stdout",
          "text": [
            "Moviepy - Done !\n",
            "Moviepy - video ready /content/video/CartPole-v1/a3915733-e792-4f8c-9b94-670acb3cc1e5/rl-video-step-215.mp4\n",
            "Moviepy - Building video /content/video/CartPole-v1/a3915733-e792-4f8c-9b94-670acb3cc1e5/rl-video-step-244.mp4.\n",
            "Moviepy - Writing video /content/video/CartPole-v1/a3915733-e792-4f8c-9b94-670acb3cc1e5/rl-video-step-244.mp4\n",
            "\n"
          ]
        },
        {
          "output_type": "stream",
          "name": "stderr",
          "text": []
        },
        {
          "output_type": "stream",
          "name": "stdout",
          "text": [
            "Moviepy - Done !\n",
            "Moviepy - video ready /content/video/CartPole-v1/a3915733-e792-4f8c-9b94-670acb3cc1e5/rl-video-step-244.mp4\n",
            "Moviepy - Building video /content/video/CartPole-v1/a3915733-e792-4f8c-9b94-670acb3cc1e5/rl-video-step-257.mp4.\n",
            "Moviepy - Writing video /content/video/CartPole-v1/a3915733-e792-4f8c-9b94-670acb3cc1e5/rl-video-step-257.mp4\n",
            "\n"
          ]
        },
        {
          "output_type": "stream",
          "name": "stderr",
          "text": []
        },
        {
          "output_type": "stream",
          "name": "stdout",
          "text": [
            "Moviepy - Done !\n",
            "Moviepy - video ready /content/video/CartPole-v1/a3915733-e792-4f8c-9b94-670acb3cc1e5/rl-video-step-257.mp4\n",
            "Moviepy - Building video /content/video/CartPole-v1/a3915733-e792-4f8c-9b94-670acb3cc1e5/rl-video-step-324.mp4.\n",
            "Moviepy - Writing video /content/video/CartPole-v1/a3915733-e792-4f8c-9b94-670acb3cc1e5/rl-video-step-324.mp4\n",
            "\n"
          ]
        },
        {
          "output_type": "stream",
          "name": "stderr",
          "text": []
        },
        {
          "output_type": "stream",
          "name": "stdout",
          "text": [
            "Moviepy - Done !\n",
            "Moviepy - video ready /content/video/CartPole-v1/a3915733-e792-4f8c-9b94-670acb3cc1e5/rl-video-step-324.mp4\n",
            "Moviepy - Building video /content/video/CartPole-v1/a3915733-e792-4f8c-9b94-670acb3cc1e5/rl-video-step-345.mp4.\n",
            "Moviepy - Writing video /content/video/CartPole-v1/a3915733-e792-4f8c-9b94-670acb3cc1e5/rl-video-step-345.mp4\n",
            "\n"
          ]
        },
        {
          "output_type": "stream",
          "name": "stderr",
          "text": []
        },
        {
          "output_type": "stream",
          "name": "stdout",
          "text": [
            "Moviepy - Done !\n",
            "Moviepy - video ready /content/video/CartPole-v1/a3915733-e792-4f8c-9b94-670acb3cc1e5/rl-video-step-345.mp4\n",
            "Moviepy - Building video /content/video/CartPole-v1/a3915733-e792-4f8c-9b94-670acb3cc1e5/rl-video-step-361.mp4.\n",
            "Moviepy - Writing video /content/video/CartPole-v1/a3915733-e792-4f8c-9b94-670acb3cc1e5/rl-video-step-361.mp4\n",
            "\n"
          ]
        },
        {
          "output_type": "stream",
          "name": "stderr",
          "text": []
        },
        {
          "output_type": "stream",
          "name": "stdout",
          "text": [
            "Moviepy - Done !\n",
            "Moviepy - video ready /content/video/CartPole-v1/a3915733-e792-4f8c-9b94-670acb3cc1e5/rl-video-step-361.mp4\n",
            "Moviepy - Building video /content/video/CartPole-v1/a3915733-e792-4f8c-9b94-670acb3cc1e5/rl-video-step-374.mp4.\n",
            "Moviepy - Writing video /content/video/CartPole-v1/a3915733-e792-4f8c-9b94-670acb3cc1e5/rl-video-step-374.mp4\n",
            "\n"
          ]
        },
        {
          "output_type": "stream",
          "name": "stderr",
          "text": []
        },
        {
          "output_type": "stream",
          "name": "stdout",
          "text": [
            "Moviepy - Done !\n",
            "Moviepy - video ready /content/video/CartPole-v1/a3915733-e792-4f8c-9b94-670acb3cc1e5/rl-video-step-374.mp4\n",
            "Moviepy - Building video /content/video/CartPole-v1/a3915733-e792-4f8c-9b94-670acb3cc1e5/rl-video-step-394.mp4.\n",
            "Moviepy - Writing video /content/video/CartPole-v1/a3915733-e792-4f8c-9b94-670acb3cc1e5/rl-video-step-394.mp4\n",
            "\n"
          ]
        },
        {
          "output_type": "stream",
          "name": "stderr",
          "text": []
        },
        {
          "output_type": "stream",
          "name": "stdout",
          "text": [
            "Moviepy - Done !\n",
            "Moviepy - video ready /content/video/CartPole-v1/a3915733-e792-4f8c-9b94-670acb3cc1e5/rl-video-step-394.mp4\n",
            "Moviepy - Building video /content/video/CartPole-v1/a3915733-e792-4f8c-9b94-670acb3cc1e5/rl-video-step-424.mp4.\n",
            "Moviepy - Writing video /content/video/CartPole-v1/a3915733-e792-4f8c-9b94-670acb3cc1e5/rl-video-step-424.mp4\n",
            "\n"
          ]
        },
        {
          "output_type": "stream",
          "name": "stderr",
          "text": []
        },
        {
          "output_type": "stream",
          "name": "stdout",
          "text": [
            "Moviepy - Done !\n",
            "Moviepy - video ready /content/video/CartPole-v1/a3915733-e792-4f8c-9b94-670acb3cc1e5/rl-video-step-424.mp4\n",
            "Moviepy - Building video /content/video/CartPole-v1/a3915733-e792-4f8c-9b94-670acb3cc1e5/rl-video-step-445.mp4.\n",
            "Moviepy - Writing video /content/video/CartPole-v1/a3915733-e792-4f8c-9b94-670acb3cc1e5/rl-video-step-445.mp4\n",
            "\n"
          ]
        },
        {
          "output_type": "stream",
          "name": "stderr",
          "text": []
        },
        {
          "output_type": "stream",
          "name": "stdout",
          "text": [
            "Moviepy - Done !\n",
            "Moviepy - video ready /content/video/CartPole-v1/a3915733-e792-4f8c-9b94-670acb3cc1e5/rl-video-step-445.mp4\n",
            "Moviepy - Building video /content/video/CartPole-v1/a3915733-e792-4f8c-9b94-670acb3cc1e5/rl-video-step-460.mp4.\n",
            "Moviepy - Writing video /content/video/CartPole-v1/a3915733-e792-4f8c-9b94-670acb3cc1e5/rl-video-step-460.mp4\n",
            "\n"
          ]
        },
        {
          "output_type": "stream",
          "name": "stderr",
          "text": []
        },
        {
          "output_type": "stream",
          "name": "stdout",
          "text": [
            "Moviepy - Done !\n",
            "Moviepy - video ready /content/video/CartPole-v1/a3915733-e792-4f8c-9b94-670acb3cc1e5/rl-video-step-460.mp4\n",
            "Moviepy - Building video /content/video/CartPole-v1/a3915733-e792-4f8c-9b94-670acb3cc1e5/rl-video-step-490.mp4.\n",
            "Moviepy - Writing video /content/video/CartPole-v1/a3915733-e792-4f8c-9b94-670acb3cc1e5/rl-video-step-490.mp4\n",
            "\n"
          ]
        },
        {
          "output_type": "stream",
          "name": "stderr",
          "text": []
        },
        {
          "output_type": "stream",
          "name": "stdout",
          "text": [
            "Moviepy - Done !\n",
            "Moviepy - video ready /content/video/CartPole-v1/a3915733-e792-4f8c-9b94-670acb3cc1e5/rl-video-step-490.mp4\n",
            "Moviepy - Building video /content/video/CartPole-v1/a3915733-e792-4f8c-9b94-670acb3cc1e5/rl-video-step-502.mp4.\n",
            "Moviepy - Writing video /content/video/CartPole-v1/a3915733-e792-4f8c-9b94-670acb3cc1e5/rl-video-step-502.mp4\n",
            "\n"
          ]
        },
        {
          "output_type": "stream",
          "name": "stderr",
          "text": []
        },
        {
          "output_type": "stream",
          "name": "stdout",
          "text": [
            "Moviepy - Done !\n",
            "Moviepy - video ready /content/video/CartPole-v1/a3915733-e792-4f8c-9b94-670acb3cc1e5/rl-video-step-502.mp4\n",
            "Moviepy - Building video /content/video/CartPole-v1/a3915733-e792-4f8c-9b94-670acb3cc1e5/rl-video-step-517.mp4.\n",
            "Moviepy - Writing video /content/video/CartPole-v1/a3915733-e792-4f8c-9b94-670acb3cc1e5/rl-video-step-517.mp4\n",
            "\n"
          ]
        },
        {
          "output_type": "stream",
          "name": "stderr",
          "text": []
        },
        {
          "output_type": "stream",
          "name": "stdout",
          "text": [
            "Moviepy - Done !\n",
            "Moviepy - video ready /content/video/CartPole-v1/a3915733-e792-4f8c-9b94-670acb3cc1e5/rl-video-step-517.mp4\n",
            "Moviepy - Building video /content/video/CartPole-v1/a3915733-e792-4f8c-9b94-670acb3cc1e5/rl-video-step-530.mp4.\n",
            "Moviepy - Writing video /content/video/CartPole-v1/a3915733-e792-4f8c-9b94-670acb3cc1e5/rl-video-step-530.mp4\n",
            "\n"
          ]
        },
        {
          "output_type": "stream",
          "name": "stderr",
          "text": []
        },
        {
          "output_type": "stream",
          "name": "stdout",
          "text": [
            "Moviepy - Done !\n",
            "Moviepy - video ready /content/video/CartPole-v1/a3915733-e792-4f8c-9b94-670acb3cc1e5/rl-video-step-530.mp4\n",
            "Moviepy - Building video /content/video/CartPole-v1/a3915733-e792-4f8c-9b94-670acb3cc1e5/rl-video-step-540.mp4.\n",
            "Moviepy - Writing video /content/video/CartPole-v1/a3915733-e792-4f8c-9b94-670acb3cc1e5/rl-video-step-540.mp4\n",
            "\n"
          ]
        },
        {
          "output_type": "stream",
          "name": "stderr",
          "text": []
        },
        {
          "output_type": "stream",
          "name": "stdout",
          "text": [
            "Moviepy - Done !\n",
            "Moviepy - video ready /content/video/CartPole-v1/a3915733-e792-4f8c-9b94-670acb3cc1e5/rl-video-step-540.mp4\n",
            "Moviepy - Building video /content/video/CartPole-v1/a3915733-e792-4f8c-9b94-670acb3cc1e5/rl-video-step-562.mp4.\n",
            "Moviepy - Writing video /content/video/CartPole-v1/a3915733-e792-4f8c-9b94-670acb3cc1e5/rl-video-step-562.mp4\n",
            "\n"
          ]
        },
        {
          "output_type": "stream",
          "name": "stderr",
          "text": []
        },
        {
          "output_type": "stream",
          "name": "stdout",
          "text": [
            "Moviepy - Done !\n",
            "Moviepy - video ready /content/video/CartPole-v1/a3915733-e792-4f8c-9b94-670acb3cc1e5/rl-video-step-562.mp4\n",
            "Moviepy - Building video /content/video/CartPole-v1/a3915733-e792-4f8c-9b94-670acb3cc1e5/rl-video-step-581.mp4.\n",
            "Moviepy - Writing video /content/video/CartPole-v1/a3915733-e792-4f8c-9b94-670acb3cc1e5/rl-video-step-581.mp4\n",
            "\n"
          ]
        },
        {
          "output_type": "stream",
          "name": "stderr",
          "text": []
        },
        {
          "output_type": "stream",
          "name": "stdout",
          "text": [
            "Moviepy - Done !\n",
            "Moviepy - video ready /content/video/CartPole-v1/a3915733-e792-4f8c-9b94-670acb3cc1e5/rl-video-step-581.mp4\n",
            "Moviepy - Building video /content/video/CartPole-v1/a3915733-e792-4f8c-9b94-670acb3cc1e5/rl-video-step-597.mp4.\n",
            "Moviepy - Writing video /content/video/CartPole-v1/a3915733-e792-4f8c-9b94-670acb3cc1e5/rl-video-step-597.mp4\n",
            "\n"
          ]
        },
        {
          "output_type": "stream",
          "name": "stderr",
          "text": []
        },
        {
          "output_type": "stream",
          "name": "stdout",
          "text": [
            "Moviepy - Done !\n",
            "Moviepy - video ready /content/video/CartPole-v1/a3915733-e792-4f8c-9b94-670acb3cc1e5/rl-video-step-597.mp4\n",
            "Moviepy - Building video /content/video/CartPole-v1/a3915733-e792-4f8c-9b94-670acb3cc1e5/rl-video-step-623.mp4.\n",
            "Moviepy - Writing video /content/video/CartPole-v1/a3915733-e792-4f8c-9b94-670acb3cc1e5/rl-video-step-623.mp4\n",
            "\n"
          ]
        },
        {
          "output_type": "stream",
          "name": "stderr",
          "text": []
        },
        {
          "output_type": "stream",
          "name": "stdout",
          "text": [
            "Moviepy - Done !\n",
            "Moviepy - video ready /content/video/CartPole-v1/a3915733-e792-4f8c-9b94-670acb3cc1e5/rl-video-step-623.mp4\n",
            "Moviepy - Building video /content/video/CartPole-v1/a3915733-e792-4f8c-9b94-670acb3cc1e5/rl-video-step-633.mp4.\n",
            "Moviepy - Writing video /content/video/CartPole-v1/a3915733-e792-4f8c-9b94-670acb3cc1e5/rl-video-step-633.mp4\n",
            "\n"
          ]
        },
        {
          "output_type": "stream",
          "name": "stderr",
          "text": []
        },
        {
          "output_type": "stream",
          "name": "stdout",
          "text": [
            "Moviepy - Done !\n",
            "Moviepy - video ready /content/video/CartPole-v1/a3915733-e792-4f8c-9b94-670acb3cc1e5/rl-video-step-633.mp4\n",
            "Moviepy - Building video /content/video/CartPole-v1/a3915733-e792-4f8c-9b94-670acb3cc1e5/rl-video-step-647.mp4.\n",
            "Moviepy - Writing video /content/video/CartPole-v1/a3915733-e792-4f8c-9b94-670acb3cc1e5/rl-video-step-647.mp4\n",
            "\n"
          ]
        },
        {
          "output_type": "stream",
          "name": "stderr",
          "text": []
        },
        {
          "output_type": "stream",
          "name": "stdout",
          "text": [
            "Moviepy - Done !\n",
            "Moviepy - video ready /content/video/CartPole-v1/a3915733-e792-4f8c-9b94-670acb3cc1e5/rl-video-step-647.mp4\n",
            "Moviepy - Building video /content/video/CartPole-v1/a3915733-e792-4f8c-9b94-670acb3cc1e5/rl-video-step-659.mp4.\n",
            "Moviepy - Writing video /content/video/CartPole-v1/a3915733-e792-4f8c-9b94-670acb3cc1e5/rl-video-step-659.mp4\n",
            "\n"
          ]
        },
        {
          "output_type": "stream",
          "name": "stderr",
          "text": []
        },
        {
          "output_type": "stream",
          "name": "stdout",
          "text": [
            "Moviepy - Done !\n",
            "Moviepy - video ready /content/video/CartPole-v1/a3915733-e792-4f8c-9b94-670acb3cc1e5/rl-video-step-659.mp4\n",
            "Moviepy - Building video /content/video/CartPole-v1/a3915733-e792-4f8c-9b94-670acb3cc1e5/rl-video-step-686.mp4.\n",
            "Moviepy - Writing video /content/video/CartPole-v1/a3915733-e792-4f8c-9b94-670acb3cc1e5/rl-video-step-686.mp4\n",
            "\n"
          ]
        },
        {
          "output_type": "stream",
          "name": "stderr",
          "text": []
        },
        {
          "output_type": "stream",
          "name": "stdout",
          "text": [
            "Moviepy - Done !\n",
            "Moviepy - video ready /content/video/CartPole-v1/a3915733-e792-4f8c-9b94-670acb3cc1e5/rl-video-step-686.mp4\n",
            "Moviepy - Building video /content/video/CartPole-v1/a3915733-e792-4f8c-9b94-670acb3cc1e5/rl-video-step-701.mp4.\n",
            "Moviepy - Writing video /content/video/CartPole-v1/a3915733-e792-4f8c-9b94-670acb3cc1e5/rl-video-step-701.mp4\n",
            "\n"
          ]
        },
        {
          "output_type": "stream",
          "name": "stderr",
          "text": []
        },
        {
          "output_type": "stream",
          "name": "stdout",
          "text": [
            "Moviepy - Done !\n",
            "Moviepy - video ready /content/video/CartPole-v1/a3915733-e792-4f8c-9b94-670acb3cc1e5/rl-video-step-701.mp4\n",
            "Moviepy - Building video /content/video/CartPole-v1/a3915733-e792-4f8c-9b94-670acb3cc1e5/rl-video-step-719.mp4.\n",
            "Moviepy - Writing video /content/video/CartPole-v1/a3915733-e792-4f8c-9b94-670acb3cc1e5/rl-video-step-719.mp4\n",
            "\n"
          ]
        },
        {
          "output_type": "stream",
          "name": "stderr",
          "text": []
        },
        {
          "output_type": "stream",
          "name": "stdout",
          "text": [
            "Moviepy - Done !\n",
            "Moviepy - video ready /content/video/CartPole-v1/a3915733-e792-4f8c-9b94-670acb3cc1e5/rl-video-step-719.mp4\n",
            "Moviepy - Building video /content/video/CartPole-v1/a3915733-e792-4f8c-9b94-670acb3cc1e5/rl-video-step-732.mp4.\n",
            "Moviepy - Writing video /content/video/CartPole-v1/a3915733-e792-4f8c-9b94-670acb3cc1e5/rl-video-step-732.mp4\n",
            "\n"
          ]
        },
        {
          "output_type": "stream",
          "name": "stderr",
          "text": []
        },
        {
          "output_type": "stream",
          "name": "stdout",
          "text": [
            "Moviepy - Done !\n",
            "Moviepy - video ready /content/video/CartPole-v1/a3915733-e792-4f8c-9b94-670acb3cc1e5/rl-video-step-732.mp4\n",
            "Moviepy - Building video /content/video/CartPole-v1/a3915733-e792-4f8c-9b94-670acb3cc1e5/rl-video-step-756.mp4.\n",
            "Moviepy - Writing video /content/video/CartPole-v1/a3915733-e792-4f8c-9b94-670acb3cc1e5/rl-video-step-756.mp4\n",
            "\n"
          ]
        },
        {
          "output_type": "stream",
          "name": "stderr",
          "text": []
        },
        {
          "output_type": "stream",
          "name": "stdout",
          "text": [
            "Moviepy - Done !\n",
            "Moviepy - video ready /content/video/CartPole-v1/a3915733-e792-4f8c-9b94-670acb3cc1e5/rl-video-step-756.mp4\n",
            "Moviepy - Building video /content/video/CartPole-v1/a3915733-e792-4f8c-9b94-670acb3cc1e5/rl-video-step-792.mp4.\n",
            "Moviepy - Writing video /content/video/CartPole-v1/a3915733-e792-4f8c-9b94-670acb3cc1e5/rl-video-step-792.mp4\n",
            "\n"
          ]
        },
        {
          "output_type": "stream",
          "name": "stderr",
          "text": []
        },
        {
          "output_type": "stream",
          "name": "stdout",
          "text": [
            "Moviepy - Done !\n",
            "Moviepy - video ready /content/video/CartPole-v1/a3915733-e792-4f8c-9b94-670acb3cc1e5/rl-video-step-792.mp4\n",
            "Moviepy - Building video /content/video/CartPole-v1/a3915733-e792-4f8c-9b94-670acb3cc1e5/rl-video-step-820.mp4.\n",
            "Moviepy - Writing video /content/video/CartPole-v1/a3915733-e792-4f8c-9b94-670acb3cc1e5/rl-video-step-820.mp4\n",
            "\n"
          ]
        },
        {
          "output_type": "stream",
          "name": "stderr",
          "text": []
        },
        {
          "output_type": "stream",
          "name": "stdout",
          "text": [
            "Moviepy - Done !\n",
            "Moviepy - video ready /content/video/CartPole-v1/a3915733-e792-4f8c-9b94-670acb3cc1e5/rl-video-step-820.mp4\n",
            "Moviepy - Building video /content/video/CartPole-v1/a3915733-e792-4f8c-9b94-670acb3cc1e5/rl-video-step-841.mp4.\n",
            "Moviepy - Writing video /content/video/CartPole-v1/a3915733-e792-4f8c-9b94-670acb3cc1e5/rl-video-step-841.mp4\n",
            "\n"
          ]
        },
        {
          "output_type": "stream",
          "name": "stderr",
          "text": []
        },
        {
          "output_type": "stream",
          "name": "stdout",
          "text": [
            "Moviepy - Done !\n",
            "Moviepy - video ready /content/video/CartPole-v1/a3915733-e792-4f8c-9b94-670acb3cc1e5/rl-video-step-841.mp4\n",
            "Moviepy - Building video /content/video/CartPole-v1/a3915733-e792-4f8c-9b94-670acb3cc1e5/rl-video-step-860.mp4.\n",
            "Moviepy - Writing video /content/video/CartPole-v1/a3915733-e792-4f8c-9b94-670acb3cc1e5/rl-video-step-860.mp4\n",
            "\n"
          ]
        },
        {
          "output_type": "stream",
          "name": "stderr",
          "text": []
        },
        {
          "output_type": "stream",
          "name": "stdout",
          "text": [
            "Moviepy - Done !\n",
            "Moviepy - video ready /content/video/CartPole-v1/a3915733-e792-4f8c-9b94-670acb3cc1e5/rl-video-step-860.mp4\n",
            "Moviepy - Building video /content/video/CartPole-v1/a3915733-e792-4f8c-9b94-670acb3cc1e5/rl-video-step-880.mp4.\n",
            "Moviepy - Writing video /content/video/CartPole-v1/a3915733-e792-4f8c-9b94-670acb3cc1e5/rl-video-step-880.mp4\n",
            "\n"
          ]
        },
        {
          "output_type": "stream",
          "name": "stderr",
          "text": []
        },
        {
          "output_type": "stream",
          "name": "stdout",
          "text": [
            "Moviepy - Done !\n",
            "Moviepy - video ready /content/video/CartPole-v1/a3915733-e792-4f8c-9b94-670acb3cc1e5/rl-video-step-880.mp4\n",
            "Moviepy - Building video /content/video/CartPole-v1/a3915733-e792-4f8c-9b94-670acb3cc1e5/rl-video-step-890.mp4.\n",
            "Moviepy - Writing video /content/video/CartPole-v1/a3915733-e792-4f8c-9b94-670acb3cc1e5/rl-video-step-890.mp4\n",
            "\n"
          ]
        },
        {
          "output_type": "stream",
          "name": "stderr",
          "text": []
        },
        {
          "output_type": "stream",
          "name": "stdout",
          "text": [
            "Moviepy - Done !\n",
            "Moviepy - video ready /content/video/CartPole-v1/a3915733-e792-4f8c-9b94-670acb3cc1e5/rl-video-step-890.mp4\n",
            "Moviepy - Building video /content/video/CartPole-v1/a3915733-e792-4f8c-9b94-670acb3cc1e5/rl-video-step-899.mp4.\n",
            "Moviepy - Writing video /content/video/CartPole-v1/a3915733-e792-4f8c-9b94-670acb3cc1e5/rl-video-step-899.mp4\n",
            "\n"
          ]
        },
        {
          "output_type": "stream",
          "name": "stderr",
          "text": []
        },
        {
          "output_type": "stream",
          "name": "stdout",
          "text": [
            "Moviepy - Done !\n",
            "Moviepy - video ready /content/video/CartPole-v1/a3915733-e792-4f8c-9b94-670acb3cc1e5/rl-video-step-899.mp4\n",
            "Moviepy - Building video /content/video/CartPole-v1/a3915733-e792-4f8c-9b94-670acb3cc1e5/rl-video-step-917.mp4.\n",
            "Moviepy - Writing video /content/video/CartPole-v1/a3915733-e792-4f8c-9b94-670acb3cc1e5/rl-video-step-917.mp4\n",
            "\n"
          ]
        },
        {
          "output_type": "stream",
          "name": "stderr",
          "text": []
        },
        {
          "output_type": "stream",
          "name": "stdout",
          "text": [
            "Moviepy - Done !\n",
            "Moviepy - video ready /content/video/CartPole-v1/a3915733-e792-4f8c-9b94-670acb3cc1e5/rl-video-step-917.mp4\n",
            "Moviepy - Building video /content/video/CartPole-v1/a3915733-e792-4f8c-9b94-670acb3cc1e5/rl-video-step-934.mp4.\n",
            "Moviepy - Writing video /content/video/CartPole-v1/a3915733-e792-4f8c-9b94-670acb3cc1e5/rl-video-step-934.mp4\n",
            "\n"
          ]
        },
        {
          "output_type": "stream",
          "name": "stderr",
          "text": []
        },
        {
          "output_type": "stream",
          "name": "stdout",
          "text": [
            "Moviepy - Done !\n",
            "Moviepy - video ready /content/video/CartPole-v1/a3915733-e792-4f8c-9b94-670acb3cc1e5/rl-video-step-934.mp4\n",
            "Moviepy - Building video /content/video/CartPole-v1/a3915733-e792-4f8c-9b94-670acb3cc1e5/rl-video-step-943.mp4.\n",
            "Moviepy - Writing video /content/video/CartPole-v1/a3915733-e792-4f8c-9b94-670acb3cc1e5/rl-video-step-943.mp4\n",
            "\n"
          ]
        },
        {
          "output_type": "stream",
          "name": "stderr",
          "text": []
        },
        {
          "output_type": "stream",
          "name": "stdout",
          "text": [
            "Moviepy - Done !\n",
            "Moviepy - video ready /content/video/CartPole-v1/a3915733-e792-4f8c-9b94-670acb3cc1e5/rl-video-step-943.mp4\n",
            "Moviepy - Building video /content/video/CartPole-v1/a3915733-e792-4f8c-9b94-670acb3cc1e5/rl-video-step-959.mp4.\n",
            "Moviepy - Writing video /content/video/CartPole-v1/a3915733-e792-4f8c-9b94-670acb3cc1e5/rl-video-step-959.mp4\n",
            "\n"
          ]
        },
        {
          "output_type": "stream",
          "name": "stderr",
          "text": []
        },
        {
          "output_type": "stream",
          "name": "stdout",
          "text": [
            "Moviepy - Done !\n",
            "Moviepy - video ready /content/video/CartPole-v1/a3915733-e792-4f8c-9b94-670acb3cc1e5/rl-video-step-959.mp4\n",
            "Moviepy - Building video /content/video/CartPole-v1/a3915733-e792-4f8c-9b94-670acb3cc1e5/rl-video-step-990.mp4.\n",
            "Moviepy - Writing video /content/video/CartPole-v1/a3915733-e792-4f8c-9b94-670acb3cc1e5/rl-video-step-990.mp4\n",
            "\n"
          ]
        },
        {
          "output_type": "stream",
          "name": "stderr",
          "text": [
            "                                                           "
          ]
        },
        {
          "output_type": "stream",
          "name": "stdout",
          "text": [
            "Moviepy - Done !\n",
            "Moviepy - video ready /content/video/CartPole-v1/a3915733-e792-4f8c-9b94-670acb3cc1e5/rl-video-step-990.mp4\n"
          ]
        },
        {
          "output_type": "stream",
          "name": "stderr",
          "text": [
            "\r"
          ]
        },
        {
          "output_type": "display_data",
          "data": {
            "text/plain": [
              "<IPython.core.display.HTML object>"
            ],
            "text/html": [
              "<video alt=\"test\" autoplay \n",
              "                loop controls style=\"height: 400px;\">\n",
              "                <source src=\"data:video/mp4;base64,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\" type=\"video/mp4\" />\n",
              "             </video>"
            ]
          },
          "metadata": {}
        }
      ]
    },
    {
      "cell_type": "code",
      "source": [
        "env, folder_name = create_environment(\"ALE/Alien-v5\")\n",
        "\n",
        "observation = env.reset()\n",
        "\n",
        "for _ in range(1000):\n",
        "    action = env.action_space.sample()  # agent policy that uses the observation and info\n",
        "    observation, reward, terminated, truncated, info = env.step(action)\n",
        "\n",
        "    if terminated or truncated:\n",
        "        observation, info = env.reset()\n",
        "\n",
        "env.close()\n",
        "show_video(folder_name)"
      ],
      "metadata": {
        "id": "UOAfE0buzkpD",
        "colab": {
          "base_uri": "https://localhost:8080/",
          "height": 705
        },
        "outputId": "ba8d05d0-8737-4045-910d-fab78c0afaa4"
      },
      "execution_count": 67,
      "outputs": [
        {
          "output_type": "stream",
          "name": "stdout",
          "text": [
            "Action Space: Discrete(18)\n",
            "Observation Space: Box(0, 255, (210, 160, 3), uint8)\n",
            "Max Episode Steps: None\n",
            "Nondeterministic: False\n",
            "Reward Range: (-inf, inf)\n",
            "Reward Threshold: None\n",
            "Moviepy - Building video /content/video/ALE/Alien-v5/8ae3cf93-07e9-407d-a50b-3c5f02a04be7/rl-video-step-0.mp4.\n",
            "Moviepy - Writing video /content/video/ALE/Alien-v5/8ae3cf93-07e9-407d-a50b-3c5f02a04be7/rl-video-step-0.mp4\n",
            "\n"
          ]
        },
        {
          "output_type": "stream",
          "name": "stderr",
          "text": []
        },
        {
          "output_type": "stream",
          "name": "stdout",
          "text": [
            "Moviepy - Done !\n",
            "Moviepy - video ready /content/video/ALE/Alien-v5/8ae3cf93-07e9-407d-a50b-3c5f02a04be7/rl-video-step-0.mp4\n",
            "Moviepy - Building video /content/video/ALE/Alien-v5/8ae3cf93-07e9-407d-a50b-3c5f02a04be7/rl-video-step-561.mp4.\n",
            "Moviepy - Writing video /content/video/ALE/Alien-v5/8ae3cf93-07e9-407d-a50b-3c5f02a04be7/rl-video-step-561.mp4\n",
            "\n"
          ]
        },
        {
          "output_type": "stream",
          "name": "stderr",
          "text": [
            "                                                               "
          ]
        },
        {
          "output_type": "stream",
          "name": "stdout",
          "text": [
            "Moviepy - Done !\n",
            "Moviepy - video ready /content/video/ALE/Alien-v5/8ae3cf93-07e9-407d-a50b-3c5f02a04be7/rl-video-step-561.mp4\n"
          ]
        },
        {
          "output_type": "stream",
          "name": "stderr",
          "text": [
            "\r"
          ]
        },
        {
          "output_type": "display_data",
          "data": {
            "text/plain": [
              "<IPython.core.display.HTML object>"
            ],
            "text/html": [
              "<video alt=\"test\" autoplay \n",
              "                loop controls style=\"height: 400px;\">\n",
              "                <source src=\"data:video/mp4;base64,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\" type=\"video/mp4\" />\n",
              "             </video>"
            ]
          },
          "metadata": {}
        }
      ]
    },
    {
      "cell_type": "code",
      "source": [
        "env, folder_name = create_environment(\"ALE/AirRaid-v5\")\n",
        "\n",
        "observation = env.reset()\n",
        "\n",
        "for _ in range(1000):\n",
        "    action = env.action_space.sample()  # agent policy that uses the observation and info\n",
        "    observation, reward, terminated, truncated, info = env.step(action)\n",
        "\n",
        "    if terminated or truncated:\n",
        "        observation, info = env.reset()\n",
        "\n",
        "env.close()\n",
        "show_video(folder_name)"
      ],
      "metadata": {
        "colab": {
          "base_uri": "https://localhost:8080/",
          "height": 794
        },
        "id": "AanlVk84btMX",
        "outputId": "eecbb357-fbdd-49ba-9c80-b8a4ea4291c1"
      },
      "execution_count": 68,
      "outputs": [
        {
          "output_type": "stream",
          "name": "stdout",
          "text": [
            "Action Space: Discrete(6)\n",
            "Observation Space: Box(0, 255, (250, 160, 3), uint8)\n",
            "Max Episode Steps: None\n",
            "Nondeterministic: False\n",
            "Reward Range: (-inf, inf)\n",
            "Reward Threshold: None\n",
            "Moviepy - Building video /content/video/ALE/AirRaid-v5/db1184ca-dbb1-4a81-a08f-48b8dbbdd2c0/rl-video-step-0.mp4.\n",
            "Moviepy - Writing video /content/video/ALE/AirRaid-v5/db1184ca-dbb1-4a81-a08f-48b8dbbdd2c0/rl-video-step-0.mp4\n",
            "\n"
          ]
        },
        {
          "output_type": "stream",
          "name": "stderr",
          "text": []
        },
        {
          "output_type": "stream",
          "name": "stdout",
          "text": [
            "Moviepy - Done !\n",
            "Moviepy - video ready /content/video/ALE/AirRaid-v5/db1184ca-dbb1-4a81-a08f-48b8dbbdd2c0/rl-video-step-0.mp4\n",
            "Moviepy - Building video /content/video/ALE/AirRaid-v5/db1184ca-dbb1-4a81-a08f-48b8dbbdd2c0/rl-video-step-478.mp4.\n",
            "Moviepy - Writing video /content/video/ALE/AirRaid-v5/db1184ca-dbb1-4a81-a08f-48b8dbbdd2c0/rl-video-step-478.mp4\n",
            "\n"
          ]
        },
        {
          "output_type": "stream",
          "name": "stderr",
          "text": []
        },
        {
          "output_type": "stream",
          "name": "stdout",
          "text": [
            "Moviepy - Done !\n",
            "Moviepy - video ready /content/video/ALE/AirRaid-v5/db1184ca-dbb1-4a81-a08f-48b8dbbdd2c0/rl-video-step-478.mp4\n",
            "Moviepy - Building video /content/video/ALE/AirRaid-v5/db1184ca-dbb1-4a81-a08f-48b8dbbdd2c0/rl-video-step-907.mp4.\n",
            "Moviepy - Writing video /content/video/ALE/AirRaid-v5/db1184ca-dbb1-4a81-a08f-48b8dbbdd2c0/rl-video-step-907.mp4\n",
            "\n"
          ]
        },
        {
          "output_type": "stream",
          "name": "stderr",
          "text": [
            "                                                             "
          ]
        },
        {
          "output_type": "stream",
          "name": "stdout",
          "text": [
            "Moviepy - Done !\n",
            "Moviepy - video ready /content/video/ALE/AirRaid-v5/db1184ca-dbb1-4a81-a08f-48b8dbbdd2c0/rl-video-step-907.mp4\n"
          ]
        },
        {
          "output_type": "stream",
          "name": "stderr",
          "text": [
            "\r"
          ]
        },
        {
          "output_type": "display_data",
          "data": {
            "text/plain": [
              "<IPython.core.display.HTML object>"
            ],
            "text/html": [
              "<video alt=\"test\" autoplay \n",
              "                loop controls style=\"height: 400px;\">\n",
              "                <source src=\"data:video/mp4;base64,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\" type=\"video/mp4\" />\n",
              "             </video>"
            ]
          },
          "metadata": {}
        }
      ]
    },
    {
      "cell_type": "code",
      "source": [],
      "metadata": {
        "id": "yKgfgDkneCbq"
      },
      "execution_count": null,
      "outputs": []
    }
  ]
}
